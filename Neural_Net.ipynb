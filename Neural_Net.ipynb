{
 "cells": [
  {
   "cell_type": "code",
   "execution_count": 6,
   "metadata": {},
   "outputs": [],
   "source": [
    "import csv\n",
    "import pandas\n",
    "import numpy as np\n",
    "import seaborn as sns\n",
    "import matplotlib.pyplot as plt\n",
    "from scipy import stats\n",
    "import tensorflow as tf\n",
    "import chess\n",
    "import chess.pgn"
   ]
  },
  {
   "cell_type": "code",
   "execution_count": 2,
   "metadata": {},
   "outputs": [],
   "source": [
    "#Following Board Representation from Paper\n",
    "def board_encoder(board):\n",
    "    bit_boards = {\"P\": np.zeros(64),\"N\": np.zeros(64),\"B\": np.zeros(64),\n",
    "                  \"R\": np.zeros(64),\"Q\": np.zeros(64),\"K\": np.zeros(64),\n",
    "                  \"p\": np.zeros(64),\"n\": np.zeros(64),\"b\": np.zeros(64),\n",
    "                  \"r\": np.zeros(64),\"q\": np.zeros(64),\"k\": np.zeros(64)}\n",
    "    for i in range(0, 64):\n",
    "        square = board.piece_at(i)\n",
    "        if square is not None:\n",
    "            bit_boards[square.symbol()][i] = 1\n",
    "            \n",
    "    bit_board = np.concatenate([bit_boards[\"P\"], bit_boards[\"R\"], bit_boards[\"N\"], bit_boards[\"B\"], \n",
    "                                bit_boards[\"Q\"], bit_boards[\"K\"], bit_boards[\"p\"], bit_boards[\"r\"],\n",
    "                                bit_boards[\"n\"], bit_boards[\"b\"], bit_boards[\"q\"], bit_boards[\"k\"]])\n",
    "    return bit_board\n"
   ]
  },
  {
   "cell_type": "code",
   "execution_count": 43,
   "metadata": {},
   "outputs": [],
   "source": [
    "stockfish = pandas.read_csv('C:\\\\Users\\\\Christopher.Atkeson\\\\Documents\\\\web_project\\\\chess_evaluation\\\\stockfish.csv')\n",
    "pgn = open('C:\\\\Users\\\\Christopher.Atkeson\\\\Documents\\\\web_project\\\\chess_evaluation\\\\data.pgn')\n",
    "#stockfish = pandas.read_csv('/Users/chrisatkeson/Documents/web_project/chess_evaluation/stockfish.csv')\n",
    "#pgn = open('/Users/chrisatkeson/Documents/web_project/chess_evaluation/data.pgn')"
   ]
  },
  {
   "cell_type": "code",
   "execution_count": 44,
   "metadata": {},
   "outputs": [
    {
     "name": "stdout",
     "output_type": "stream",
     "text": [
      "500\n",
      "1000\n",
      "1500\n",
      "2000\n",
      "2500\n",
      "3000\n",
      "3500\n",
      "4000\n",
      "4500\n",
      "5000\n"
     ]
    }
   ],
   "source": [
    "evaluations = stockfish['MoveScores'];\n",
    "all_evaluations = [];\n",
    "all_positions =[];\n",
    "\n",
    "count = 0\n",
    "\n",
    "for game in evaluations:\n",
    "    count = count+1\n",
    "    if count % 500 == 0:\n",
    "        print(count)\n",
    "    position = chess.pgn.read_game(pgn)\n",
    "    for evaluation in game.split():\n",
    "        all_positions.append(position.board())\n",
    "        next_position = position.variations[0]\n",
    "        position = next_position\n",
    "        if evaluation.isdigit():\n",
    "            all_evaluations.append([float(evaluation)])\n",
    "        elif evaluation.lstrip('-').isdigit():\n",
    "            all_evaluations.append([float(evaluation.lstrip('-'))*-1.0])\n",
    "        else: \n",
    "            all_evaluations.append([0])\n",
    "\n",
    "    if count == 5000:\n",
    "        break\n",
    "        \n",
    "#normalize evaluations      \n",
    "mean_evaluation = np.mean(all_evaluations)\n",
    "stdeviation = np.std(all_evaluations)\n",
    "max_evaluation = np.max(all_evaluations)\n",
    "min_evaluation = np.min(all_evaluations)\n",
    "max_abs_evaluation = max(max_evaluation, min_evaluation*-1.0)\n",
    "\n",
    "normalized_evaluations = np.asarray(all_evaluations) * 1/max_abs_evaluation\n",
    "\n",
    "#Constuct Board Vectors\n",
    "positions = []\n",
    "for position in all_positions:\n",
    "    positions.append(board_encoder(position))"
   ]
  },
  {
   "cell_type": "code",
   "execution_count": 36,
   "metadata": {},
   "outputs": [],
   "source": [
    "#Following Board Representation from Paper\n",
    "def board_encoder(board):\n",
    "    bit_boards = {\"P\": np.zeros(64),\"N\": np.zeros(64),\"B\": np.zeros(64),\n",
    "                  \"R\": np.zeros(64),\"Q\": np.zeros(64),\"K\": np.zeros(64),\n",
    "                  \"p\": np.zeros(64),\"n\": np.zeros(64),\"b\": np.zeros(64),\n",
    "                  \"r\": np.zeros(64),\"q\": np.zeros(64),\"k\": np.zeros(64)}\n",
    "    for i in range(0, 64):\n",
    "        square = board.piece_at(i)\n",
    "        if square is not None:\n",
    "            bit_boards[square.symbol()][i] = 1\n",
    "            \n",
    "    bit_board = np.concatenate([bit_boards[\"P\"], bit_boards[\"R\"], bit_boards[\"N\"], bit_boards[\"B\"], \n",
    "                                bit_boards[\"Q\"], bit_boards[\"K\"], bit_boards[\"p\"], bit_boards[\"r\"],\n",
    "                                bit_boards[\"n\"], bit_boards[\"b\"], bit_boards[\"q\"], bit_boards[\"k\"]])\n",
    "    return bit_board\n"
   ]
  },
  {
   "cell_type": "code",
   "execution_count": 53,
   "metadata": {},
   "outputs": [],
   "source": [
    "#print(positions[0], normalized_evaluations[0])"
   ]
  },
  {
   "cell_type": "code",
   "execution_count": null,
   "metadata": {},
   "outputs": [],
   "source": [
    "# Neural Net\n",
    "learning_rate = 0.001\n",
    "training_epochs = 5\n",
    "batch_size = 100\n",
    "display_step = 1\n",
    "\n",
    "# Network Parameters\n",
    "n_hidden_1 = 500 # 1st layer number of neurons\n",
    "n_hidden_2 = 500 # 2nd layer number of neurons\n",
    "n_input = 768 # 12 8x8 chessboards\n",
    "n_classes = 1 # MNIST total classes (0-9 digits)\n",
    "\n",
    "# tf Graph input\n",
    "X = tf.placeholder(\"float\", [None, n_input])\n",
    "Y = tf.placeholder(\"float\", [None, 1])\n",
    "\n",
    "# Store layers weight & bias\n",
    "weights = {\n",
    "    'h1': tf.Variable(tf.random_normal([n_input, n_hidden_1])),\n",
    "    'h2': tf.Variable(tf.random_normal([n_hidden_1, n_hidden_2])),\n",
    "    'out': tf.Variable(tf.random_normal([n_hidden_2, n_classes]))\n",
    "}\n",
    "biases = {\n",
    "    'b1': tf.Variable(tf.random_normal([n_hidden_1])),\n",
    "    'b2': tf.Variable(tf.random_normal([n_hidden_2])),\n",
    "    'out': tf.Variable(tf.random_normal([n_classes]))\n",
    "}\n",
    "\n",
    "# Create model\n",
    "def multilayer_perceptron(x):\n",
    "    layer_1 = tf.add(tf.matmul(x, weights['h1']), biases['b1'])\n",
    "    layer_2 = tf.add(tf.matmul(layer_1, weights['h2']), biases['b2'])\n",
    "    out_layer = tf.matmul(layer_2, weights['out']) + biases['out']\n",
    "    return out_layer\n",
    "\n",
    "# Construct model\n",
    "output = multilayer_perceptron(X)\n",
    "\n",
    "# using mean squared error cost function\n",
    "cost  = tf.reduce_mean(tf.square(output - Y))\n",
    "\n",
    "# using Gradient Descent algorithm\n",
    "optimizer = tf.train.GradientDescentOptimizer(learning_rate).minimize(cost)\n",
    "\n",
    "# Initializing the variables\n",
    "init = tf.global_variables_initializer()"
   ]
  },
  {
   "cell_type": "code",
   "execution_count": 18,
   "metadata": {},
   "outputs": [],
   "source": []
  },
  {
   "cell_type": "code",
   "execution_count": null,
   "metadata": {},
   "outputs": [],
   "source": []
  },
  {
   "cell_type": "code",
   "execution_count": 52,
   "metadata": {},
   "outputs": [
    {
     "name": "stdout",
     "output_type": "stream",
     "text": [
      "[[2.6995978e+08]\n",
      " [2.7529693e+08]\n",
      " [2.7613366e+08]\n",
      " ...\n",
      " [8.5603710e+06]\n",
      " [9.3569250e+06]\n",
      " [9.2662530e+06]]\n"
     ]
    }
   ],
   "source": [
    "with tf.Session() as sess:\n",
    "    sess.run(init)\n",
    "    cost_history=[]\n",
    "    count = 0\n",
    "    for step in np.arange(1):\n",
    "        sess.run(optimizer, feed_dict={X:positions[0:100], Y:normalized_evaluations[0:100]})\n",
    "        cost_history = np.append(cost_history, sess.run(cost,feed_dict={X:positions[0:100], Y:normalized_evaluations[0:100]}))\n",
    "    \n",
    "    pred_y = sess.run(output, feed_dict={X:positions})\n",
    "    print (sess.run(output, feed_dict={X:positions}))\n",
    "\n"
   ]
  },
  {
   "cell_type": "code",
   "execution_count": null,
   "metadata": {},
   "outputs": [],
   "source": []
  },
  {
   "cell_type": "code",
   "execution_count": 37,
   "metadata": {},
   "outputs": [
    {
     "name": "stdout",
     "output_type": "stream",
     "text": [
      "[0.00145725 0.0013763  0.0009715  ... 0.83273964 0.83273964 0.83330635]\n"
     ]
    }
   ],
   "source": [
    "print(normalized_evaluations)"
   ]
  },
  {
   "cell_type": "code",
   "execution_count": null,
   "metadata": {},
   "outputs": [],
   "source": []
  }
 ],
 "metadata": {
  "kernelspec": {
   "display_name": "Python 3",
   "language": "python",
   "name": "python3"
  },
  "language_info": {
   "codemirror_mode": {
    "name": "ipython",
    "version": 3
   },
   "file_extension": ".py",
   "mimetype": "text/x-python",
   "name": "python",
   "nbconvert_exporter": "python",
   "pygments_lexer": "ipython3",
   "version": "3.6.5"
  }
 },
 "nbformat": 4,
 "nbformat_minor": 2
}
